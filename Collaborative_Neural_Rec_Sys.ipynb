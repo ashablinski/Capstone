{
  "nbformat": 4,
  "nbformat_minor": 0,
  "metadata": {
    "colab": {
      "name": "Collaborative_Neural_Rec_Sys.ipynb",
      "provenance": [],
      "collapsed_sections": [],
      "toc_visible": true,
      "authorship_tag": "ABX9TyPTng1MeOXT/ailSevPhdR9",
      "include_colab_link": true
    },
    "kernelspec": {
      "name": "python3",
      "display_name": "Python 3"
    },
    "accelerator": "GPU"
  },
  "cells": [
    {
      "cell_type": "markdown",
      "metadata": {
        "id": "view-in-github",
        "colab_type": "text"
      },
      "source": [
        "<a href=\"https://colab.research.google.com/github/ashablinski/Capstone/blob/master/Collaborative_Neural_Rec_Sys.ipynb\" target=\"_parent\"><img src=\"https://colab.research.google.com/assets/colab-badge.svg\" alt=\"Open In Colab\"/></a>"
      ]
    },
    {
      "cell_type": "markdown",
      "metadata": {
        "id": "iiQDeKx9t7lD",
        "colab_type": "text"
      },
      "source": [
        "# **NEURAL COLLABORATIVE RECOMMENDER SYSTEM FOR MOVIES** \n",
        "\n",
        "![Neural Nets](https://i.imgur.com/sJBTWPN.png?1!)\n"
      ]
    },
    {
      "cell_type": "code",
      "metadata": {
        "id": "wnIFzLcolkxf",
        "colab_type": "code",
        "colab": {
          "base_uri": "https://localhost:8080/",
          "height": 34
        },
        "outputId": "f5219fcd-652d-4477-bf96-24641099767b"
      },
      "source": [
        "%tensorflow_version 2.x\n",
        "from __future__ import absolute_import, division, print_function, unicode_literals\n",
        "print(\"Run on TensorFlow 2.x\")"
      ],
      "execution_count": 1,
      "outputs": [
        {
          "output_type": "stream",
          "text": [
            "Run on TensorFlow 2.x\n"
          ],
          "name": "stdout"
        }
      ]
    },
    {
      "cell_type": "markdown",
      "metadata": {
        "id": "Z_WB-oukwREC",
        "colab_type": "text"
      },
      "source": [
        "# I. Initial Stage"
      ]
    },
    {
      "cell_type": "markdown",
      "metadata": {
        "id": "mWpeh8XKVR_w",
        "colab_type": "text"
      },
      "source": [
        "IMPORT LIBRARIES"
      ]
    },
    {
      "cell_type": "code",
      "metadata": {
        "id": "ostjpiswhkW8",
        "colab_type": "code",
        "colab": {
          "base_uri": "https://localhost:8080/",
          "height": 51
        },
        "outputId": "ad670f13-90a7-43b7-b866-dbc7df8cf754"
      },
      "source": [
        "# Import Dependencies\n",
        "import pandas as pd\n",
        "import numpy as np\n",
        "from google.colab import drive\n",
        "import tensorflow as tf\n",
        "from tensorflow import keras\n",
        "from tensorflow.keras import layers\n",
        "from tensorflow.keras import initializers\n",
        "import matplotlib.pyplot as plt\n",
        "from sklearn.metrics import roc_curve, auc\n",
        "\n",
        "# The following lines adjust the granularity of reporting. \n",
        "pd.options.display.max_rows = 10\n",
        "pd.options.display.float_format = \"{:.1f}\".format\n",
        "\n",
        "# The following line improves formatting when ouputting NumPy arrays.\n",
        "np.set_printoptions(linewidth = 200)\n",
        "\n",
        "print(\"--\" * 17)\n",
        "print(\"ALL MODULES IMPORTED AND ACTIVATED\")"
      ],
      "execution_count": 3,
      "outputs": [
        {
          "output_type": "stream",
          "text": [
            "----------------------------------\n",
            "ALL MODULES IMPORTED AND ACTIVATED\n"
          ],
          "name": "stdout"
        }
      ]
    },
    {
      "cell_type": "markdown",
      "metadata": {
        "id": "WX0-0rIRVW3X",
        "colab_type": "text"
      },
      "source": [
        "INITIALIZE EAGER EXECUTION"
      ]
    },
    {
      "cell_type": "code",
      "metadata": {
        "id": "Ia2YW3yPVbwx",
        "colab_type": "code",
        "colab": {
          "base_uri": "https://localhost:8080/",
          "height": 34
        },
        "outputId": "7b636b45-7c12-47e2-a15a-9a00e7b64b2f"
      },
      "source": [
        "# After eager execution is enabled, operations are executed as they are defined, \n",
        "# and Tensor objects hold concrete values.\n",
        "\n",
        "tf.compat.v1.enable_eager_execution(\n",
        "    config=None, device_policy=None, execution_mode=None\n",
        ")\n",
        "print(\"EAGER EXECUTION ENABLED\")"
      ],
      "execution_count": 4,
      "outputs": [
        {
          "output_type": "stream",
          "text": [
            "EAGER EXECUTION ENABLED\n"
          ],
          "name": "stdout"
        }
      ]
    },
    {
      "cell_type": "markdown",
      "metadata": {
        "id": "LnA8yZc4v-7e",
        "colab_type": "text"
      },
      "source": [
        "LOADING DATA"
      ]
    },
    {
      "cell_type": "code",
      "metadata": {
        "id": "Q-ml2vetWIMr",
        "colab_type": "code",
        "colab": {
          "base_uri": "https://localhost:8080/",
          "height": 139
        },
        "outputId": "b99ebcaa-1643-497e-ad52-e74853af034c"
      },
      "source": [
        "# Mounting Google Drive\n",
        "drive.mount('/content/gdrive')\n",
        "\n",
        "# Changing Directory\n",
        "%cd /content/gdrive/My\\ Drive/"
      ],
      "execution_count": 5,
      "outputs": [
        {
          "output_type": "stream",
          "text": [
            "Go to this URL in a browser: https://accounts.google.com/o/oauth2/auth?client_id=947318989803-6bn6qk8qdgf4n4g3pfee6491hc0brc4i.apps.googleusercontent.com&redirect_uri=urn%3aietf%3awg%3aoauth%3a2.0%3aoob&response_type=code&scope=email%20https%3a%2f%2fwww.googleapis.com%2fauth%2fdocs.test%20https%3a%2f%2fwww.googleapis.com%2fauth%2fdrive%20https%3a%2f%2fwww.googleapis.com%2fauth%2fdrive.photos.readonly%20https%3a%2f%2fwww.googleapis.com%2fauth%2fpeopleapi.readonly\n",
            "\n",
            "Enter your authorization code:\n",
            "··········\n",
            "Mounted at /content/gdrive\n",
            "/content/gdrive/My Drive\n"
          ],
          "name": "stdout"
        }
      ]
    },
    {
      "cell_type": "code",
      "metadata": {
        "id": "0lF9J29ewAdw",
        "colab_type": "code",
        "colab": {}
      },
      "source": [
        "# Loading Clean Data\n",
        "ratings_df = pd.read_csv('/content/gdrive/My Drive/CKME 136 Data Analytics - Capstone - Art Shablinski - 501009387/DATA/CLEAN DATA/ratings_df.csv')"
      ],
      "execution_count": 6,
      "outputs": []
    },
    {
      "cell_type": "markdown",
      "metadata": {
        "id": "UaF5UnQbRCcs",
        "colab_type": "text"
      },
      "source": [
        "# II. Data Pre-Processing"
      ]
    },
    {
      "cell_type": "markdown",
      "metadata": {
        "id": "aFWRtOVqRjTd",
        "colab_type": "text"
      },
      "source": [
        "ENCODING VECTORS"
      ]
    },
    {
      "cell_type": "code",
      "metadata": {
        "id": "MQ6YCZhVRf-w",
        "colab_type": "code",
        "colab": {
          "base_uri": "https://localhost:8080/",
          "height": 34
        },
        "outputId": "8f3266ce-6205-4f39-b71c-3ec8b0faaa4c"
      },
      "source": [
        "# Encoding user vectors\n",
        "user_ids = ratings_df[\"userId\"].unique().tolist()\n",
        "user2user_encoded = {x: i for i, x in enumerate(user_ids)}\n",
        "userencoded2user = {i: x for i, x in enumerate(user_ids)}\n",
        "\n",
        "# Encoding movie vectors\n",
        "movie_ids = ratings_df[\"movieId\"].unique().tolist()\n",
        "movie2movie_encoded = {x: i for i, x in enumerate(movie_ids)}\n",
        "movie_encoded2movie = {i: x for i, x in enumerate(movie_ids)}\n",
        "\n",
        "ratings_df[\"user\"] = ratings_df[\"userId\"].map(user2user_encoded)\n",
        "ratings_df[\"movie\"] = ratings_df[\"movieId\"].map(movie2movie_encoded)\n",
        "\n",
        "num_users = len(user2user_encoded)\n",
        "num_movies = len(movie_encoded2movie)\n",
        "ratings_df[\"rating\"] = ratings_df[\"rating\"].values.astype(np.float32)\n",
        "\n",
        "# min and max values will be used to normalize the ratings later\n",
        "min_rating = min(ratings_df[\"rating\"])\n",
        "max_rating = max(ratings_df[\"rating\"])\n",
        "\n",
        "print(\n",
        "    \"Total Number of Users: {}, Total Number of Rated Movies: {}, Min Rating: {}, Max Rating: {}\".format(\n",
        "        num_users, num_movies, min_rating, max_rating\n",
        "    )\n",
        ")"
      ],
      "execution_count": 7,
      "outputs": [
        {
          "output_type": "stream",
          "text": [
            "Total Number of Users: 138493, Total Number of Rated Movies: 26744, Min Rating: 0.5, Max Rating: 5.0\n"
          ],
          "name": "stdout"
        }
      ]
    },
    {
      "cell_type": "markdown",
      "metadata": {
        "id": "KEF0HxCsRnIb",
        "colab_type": "text"
      },
      "source": [
        "DATA SPLIT AND SCALING"
      ]
    },
    {
      "cell_type": "code",
      "metadata": {
        "id": "go0sG4mZl3ih",
        "colab_type": "code",
        "colab": {}
      },
      "source": [
        "# Randomize classes to improve Model generalizability\n",
        "df = ratings_df.sample(frac=1, random_state=23)\n",
        "x = ratings_df[[\"user\", \"movie\"]].values\n",
        "\n",
        "# Normalize the labels between 0 and 1 to prevent gradients from exploding, and\n",
        "# making learning of parameters more stable\n",
        "y = ratings_df[\"rating\"].apply(lambda x: (x - min_rating) / (max_rating - min_rating)).values\n",
        "\n",
        "# Splitting the data to train on 70% of the data and validating on 30%\n",
        "train_indices = int(0.7 * df.shape[0])\n",
        "x_train, x_val, y_train, y_val = (\n",
        "    x[:train_indices],\n",
        "    x[train_indices:],\n",
        "    y[:train_indices],\n",
        "    y[train_indices:],\n",
        ")"
      ],
      "execution_count": 8,
      "outputs": []
    },
    {
      "cell_type": "markdown",
      "metadata": {
        "id": "4RhOhwLo7EA3",
        "colab_type": "text"
      },
      "source": [
        "# III. Model Architecture"
      ]
    },
    {
      "cell_type": "markdown",
      "metadata": {
        "id": "fFPe0q--iAwF",
        "colab_type": "text"
      },
      "source": [
        "DEFINE AND COMPILE THE MODEL"
      ]
    },
    {
      "cell_type": "code",
      "metadata": {
        "id": "zkKblL5ciBHB",
        "colab_type": "code",
        "colab": {}
      },
      "source": [
        "EMBEDDING_SIZE = 50\n",
        "\n",
        "class CNRC(keras.Model):\n",
        "    def __init__(self, num_users, num_movies, embedding_size, **kwargs):\n",
        "        super(CNRC, self).__init__(**kwargs)\n",
        "        self.num_users = num_users\n",
        "        self.num_movies = num_movies\n",
        "        self.embedding_size = embedding_size\n",
        "        self.user_embedding = layers.Embedding(\n",
        "            num_users,\n",
        "            embedding_size,\n",
        "            embeddings_initializer=\"he_normal\",\n",
        "            embeddings_regularizer=keras.regularizers.l2(1e-6),\n",
        "        )\n",
        "        self.user_bias = layers.Embedding(num_users, 1)\n",
        "        self.movie_embedding = layers.Embedding(\n",
        "            num_movies,\n",
        "            embedding_size,\n",
        "            embeddings_initializer=\"he_normal\",\n",
        "            embeddings_regularizer=keras.regularizers.l2(1e-6),\n",
        "        )\n",
        "        self.movie_bias = layers.Embedding(num_movies, 1)\n",
        "\n",
        "    def call(self, inputs):\n",
        "        user_vector = self.user_embedding(inputs[:, 0])\n",
        "        user_bias = self.user_bias(inputs[:, 0])\n",
        "        movie_vector = self.movie_embedding(inputs[:, 1])\n",
        "        movie_bias = self.movie_bias(inputs[:, 1])\n",
        "        dot_user_movie = tf.tensordot(user_vector, movie_vector, 2)\n",
        "        # Add all the components (including bias)\n",
        "        x = dot_user_movie + user_bias + movie_bias\n",
        "        # The sigmoid activation forces the rating to between 0 and 1\n",
        "        return tf.nn.sigmoid(x)\n",
        "\n",
        "model = CNRC(num_users, num_movies, EMBEDDING_SIZE)\n",
        "model.compile(\n",
        "    loss=tf.keras.losses.MeanSquaredError(), optimizer = keras.optimizers.Adam(lr=0.002), metrics=[\"Precision\", \"Recall\"]\n",
        ")"
      ],
      "execution_count": 18,
      "outputs": []
    },
    {
      "cell_type": "markdown",
      "metadata": {
        "id": "38bmwePdiPlF",
        "colab_type": "text"
      },
      "source": [
        "TRAINING THE MODEL"
      ]
    },
    {
      "cell_type": "code",
      "metadata": {
        "id": "XT99Af2JiR8X",
        "colab_type": "code",
        "colab": {
          "base_uri": "https://localhost:8080/",
          "height": 187
        },
        "outputId": "9184366a-d591-4120-d85c-71ecd12b5c1d"
      },
      "source": [
        "# Destroys the current TF graph and session, and creates a new one.\n",
        "tf.keras.backend.clear_session()\n",
        "\n",
        "# Training our Neural Network\n",
        "history = model.fit(\n",
        "    x=x_train,\n",
        "    y=y_train,\n",
        "    batch_size=1000,\n",
        "    epochs=5,\n",
        "    verbose=1,\n",
        "    validation_data=(x_val, y_val),\n",
        ")"
      ],
      "execution_count": 19,
      "outputs": [
        {
          "output_type": "stream",
          "text": [
            "Epoch 1/5\n",
            "14001/14001 [==============================] - 555s 40ms/step - loss: 0.2313 - precision: 0.9883 - recall: 0.9040 - val_loss: 0.1902 - val_precision: 0.9933 - val_recall: 0.7562\n",
            "Epoch 2/5\n",
            "14001/14001 [==============================] - 552s 39ms/step - loss: 0.2763 - precision: 0.9881 - recall: 0.9655 - val_loss: 0.1995 - val_precision: 0.9932 - val_recall: 0.7678\n",
            "Epoch 3/5\n",
            "14001/14001 [==============================] - 551s 39ms/step - loss: 0.2630 - precision: 0.9880 - recall: 0.9737 - val_loss: 0.1959 - val_precision: 0.9932 - val_recall: 0.7724\n",
            "Epoch 4/5\n",
            "14001/14001 [==============================] - 544s 39ms/step - loss: 0.2499 - precision: 0.9880 - recall: 0.9760 - val_loss: 0.1984 - val_precision: 0.9932 - val_recall: 0.7759\n",
            "Epoch 5/5\n",
            "14001/14001 [==============================] - 544s 39ms/step - loss: 0.2494 - precision: 0.9881 - recall: 0.9766 - val_loss: 0.1992 - val_precision: 0.9932 - val_recall: 0.7797\n"
          ],
          "name": "stdout"
        }
      ]
    },
    {
      "cell_type": "markdown",
      "metadata": {
        "id": "YDiyv9-q7SaD",
        "colab_type": "text"
      },
      "source": [
        "SAVING AND SUMMARIZING THE MODEL PARAMETERS"
      ]
    },
    {
      "cell_type": "code",
      "metadata": {
        "id": "13sXYNz_7Rxe",
        "colab_type": "code",
        "colab": {
          "base_uri": "https://localhost:8080/",
          "height": 306
        },
        "outputId": "5d30319e-1fe1-4f6f-ed99-e580ba1ab1d9"
      },
      "source": [
        "model.save('CNRS')\n",
        "new_model = keras.models.load_model('CNRS')\n",
        "new_model.summary()"
      ],
      "execution_count": 20,
      "outputs": [
        {
          "output_type": "stream",
          "text": [
            "INFO:tensorflow:Assets written to: CNRS/assets\n",
            "Model: \"cnrc\"\n",
            "_________________________________________________________________\n",
            "Layer (type)                 Output Shape              Param #   \n",
            "=================================================================\n",
            "embedding (Embedding)        multiple                  6924650   \n",
            "_________________________________________________________________\n",
            "embedding_1 (Embedding)      multiple                  138493    \n",
            "_________________________________________________________________\n",
            "embedding_2 (Embedding)      multiple                  1337200   \n",
            "_________________________________________________________________\n",
            "embedding_3 (Embedding)      multiple                  26744     \n",
            "=================================================================\n",
            "Total params: 8,427,087\n",
            "Trainable params: 8,427,087\n",
            "Non-trainable params: 0\n",
            "_________________________________________________________________\n"
          ],
          "name": "stdout"
        }
      ]
    },
    {
      "cell_type": "markdown",
      "metadata": {
        "id": "S31IccET7MP7",
        "colab_type": "text"
      },
      "source": [
        "# IV. Evaluation Metrics"
      ]
    },
    {
      "cell_type": "markdown",
      "metadata": {
        "id": "ZL7mCShCbVXV",
        "colab_type": "text"
      },
      "source": [
        "DEFINE A PLOTTING FUNCTION"
      ]
    },
    {
      "cell_type": "code",
      "metadata": {
        "id": "HjsNATjlbX-8",
        "colab_type": "code",
        "colab": {
          "base_uri": "https://localhost:8080/",
          "height": 34
        },
        "outputId": "770d7417-cf8a-4eed-a985-543bf164921c"
      },
      "source": [
        "def plot_curve(epochs, hist, list_of_metrics):\n",
        "  plt.figure()\n",
        "  plt.xlabel(\"Epoch\")\n",
        "  plt.ylabel(\"Value\")\n",
        "\n",
        "  for m in list_of_metrics:\n",
        "    x = hist[m]\n",
        "    plt.plot(epochs[1:], x[1:], label=m)\n",
        "\n",
        "  plt.legend()\n",
        "\n",
        "print(\"Loaded the plot_curve function.\")"
      ],
      "execution_count": 21,
      "outputs": [
        {
          "output_type": "stream",
          "text": [
            "Loaded the plot_curve function.\n"
          ],
          "name": "stdout"
        }
      ]
    },
    {
      "cell_type": "markdown",
      "metadata": {
        "id": "IWr__Gg3Fg23",
        "colab_type": "text"
      },
      "source": [
        "TRAIN VS TEST PERFORMANCE"
      ]
    },
    {
      "cell_type": "code",
      "metadata": {
        "id": "Fe7BU9WOiXPA",
        "colab_type": "code",
        "colab": {
          "base_uri": "https://localhost:8080/",
          "height": 295
        },
        "outputId": "ac9c7243-05d3-45d8-cb48-349731c8497c"
      },
      "source": [
        "plt.plot(history.history[\"loss\"])\n",
        "plt.plot(history.history[\"val_loss\"])\n",
        "plt.title(\"model loss\")\n",
        "plt.ylabel(\"loss\")\n",
        "plt.xlabel(\"epoch\")\n",
        "plt.legend([\"train\", \"test\"], loc=\"upper right\")\n",
        "plt.show()"
      ],
      "execution_count": 22,
      "outputs": [
        {
          "output_type": "display_data",
          "data": {
            "image/png": "[encoded data removed]",
            "text/plain": [
              "<Figure size 432x288 with 1 Axes>"
            ]
          },
          "metadata": {
            "tags": [],
            "needs_background": "light"
          }
        }
      ]
    },
    {
      "cell_type": "markdown",
      "metadata": {
        "id": "L2kybIYRFkA_",
        "colab_type": "text"
      },
      "source": [
        "TOTAL LOSS, PRECISION AND RECALL VISUALIZED"
      ]
    },
    {
      "cell_type": "code",
      "metadata": {
        "id": "kF8GaQqOr7-G",
        "colab_type": "code",
        "colab": {
          "base_uri": "https://localhost:8080/",
          "height": 324
        },
        "outputId": "2b1ed4e9-0ca9-41a3-d8db-22e8c5ce242c"
      },
      "source": [
        "pd.DataFrame(history.history).plot(figsize=(8,5))\n",
        "plt.grid(True)\n",
        "plt.gca().set_ylim(0,1)\n",
        "plt.show()"
      ],
      "execution_count": 23,
      "outputs": [
        {
          "output_type": "display_data",
          "data": {
            "image/png": "[encoded data removed]",
            "text/plain": [
              "<Figure size 576x360 with 1 Axes>"
            ]
          },
          "metadata": {
            "tags": [],
            "needs_background": "light"
          }
        }
      ]
    },
    {
      "cell_type": "markdown",
      "metadata": {
        "id": "6LXF8Q7sicFv",
        "colab_type": "text"
      },
      "source": [
        "# TOP 10 RECOMMENDATION GENERATOR"
      ]
    },
    {
      "cell_type": "code",
      "metadata": {
        "id": "zzeFhOxkijL6",
        "colab_type": "code",
        "colab": {
          "base_uri": "https://localhost:8080/",
          "height": 391
        },
        "outputId": "1ee1baa2-4b6b-4430-a070-d1d41bc7eb1b"
      },
      "source": [
        "movies_df = pd.read_csv('/content/gdrive/My Drive/CKME 136 Data Analytics - Capstone - Art Shablinski - 501009387/DATA/CLEAN DATA/movies_df.csv')\n",
        "\n",
        "user_id = df.userId.sample(1).iloc[0]\n",
        "movies_watched_by_user = df[df.userId == user_id]\n",
        "movies_not_watched = movies_df[\n",
        "    ~movies_df[\"movieId\"].isin(movies_watched_by_user.movieId.values)\n",
        "][\"movieId\"]\n",
        "movies_not_watched = list(\n",
        "    set(movies_not_watched).intersection(set(movie2movie_encoded.keys()))\n",
        ")\n",
        "movies_not_watched = [[movie2movie_encoded.get(x)] for x in movies_not_watched]\n",
        "user_encoder = user2user_encoded.get(user_id)\n",
        "user_movie_array = np.hstack(\n",
        "    ([[user_encoder]] * len(movies_not_watched), movies_not_watched)\n",
        ")\n",
        "ratings = model.predict(user_movie_array).flatten()\n",
        "top_ratings_indices = ratings.argsort()[-10:][::-1]\n",
        "recommended_movie_ids = [\n",
        "    movie_encoded2movie.get(movies_not_watched[x][0]) for x in top_ratings_indices\n",
        "]\n",
        "\n",
        "print(\"Showing recommendations for user: {}\".format(user_id))\n",
        "print(\"====\" * 9)\n",
        "print(\"Movies with high ratings from user\")\n",
        "print(\"----\" * 8)\n",
        "top_movies_user = (\n",
        "    movies_watched_by_user.sort_values(by=\"rating\", ascending=False)\n",
        "    .head(5)\n",
        "    .movieId.values\n",
        ")\n",
        "movies_df_rows = movies_df[movies_df[\"movieId\"].isin(top_movies_user)]\n",
        "for row in movies_df_rows.itertuples():\n",
        "    print(row.title, \":\", int(row.year), \":\", row.genres)\n",
        "\n",
        "print(\"----\" * 8)\n",
        "print(\"Top 10 movie recommendations\")\n",
        "print(\"----\" * 8)\n",
        "recommended_movies = movies_df[movies_df[\"movieId\"].isin(recommended_movie_ids)]\n",
        "for row in recommended_movies.itertuples():\n",
        "    print(row.title, \":\", int(row.year), \":\", row.genres)\n"
      ],
      "execution_count": 26,
      "outputs": [
        {
          "output_type": "stream",
          "text": [
            "Showing recommendations for user: 127836\n",
            "====================================\n",
            "Movies with high ratings from user\n",
            "--------------------------------\n",
            "Stand by Me : 1986 : Adventure|Drama\n",
            "Heathers : 1989 : Comedy\n",
            "Dracula (Bram Stoker's Dracula) : 1992 : Fantasy|Horror|Romance|Thriller\n",
            "Bridget Jones's Diary : 2001 : Comedy|Drama|Romance\n",
            "Incredibles, The : 2004 : Action|Adventure|Animation|Children|Comedy\n",
            "--------------------------------\n",
            "Top 10 movie recommendations\n",
            "--------------------------------\n",
            "Braveheart : 1995 : Action|Drama|War\n",
            "Léon: The Professional (a.k.a. The Professional) (Léon) : 1994 : Action|Crime|Drama|Thriller\n",
            "Godfather, The : 1972 : Crime|Drama\n",
            "Rear Window : 1954 : Mystery|Thriller\n",
            "Casablanca : 1942 : Drama|Romance\n",
            "One Flew Over the Cuckoo's Nest : 1975 : Drama\n",
            "Godfather: Part II, The : 1974 : Crime|Drama\n",
            "L.A. Confidential : 1997 : Crime|Film-Noir|Mystery|Thriller\n",
            "Amelie (Fabuleux destin d'Amélie Poulain, Le) : 2001 : Comedy|Romance\n",
            "Dark Knight, The : 2008 : Action|Crime|Drama|IMAX\n"
          ],
          "name": "stdout"
        }
      ]
    }
  ]
}